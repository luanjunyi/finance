{
 "cells": [
  {
   "cell_type": "markdown",
   "id": "57877299",
   "metadata": {},
   "source": [
    "# Screener for high quality businesses \n",
    "\n",
    "The screener is based on the book \"Warren Buffett and the Interpretation of Financial Statements.\"\n",
    "\n",
    "![screener summary](https://private-user-images.githubusercontent.com/93208/463853897-89fc2a61-f3f5-4fdd-a526-49ab3e5c78d7.png?jwt=eyJhbGciOiJIUzI1NiIsInR5cCI6IkpXVCJ9.eyJpc3MiOiJnaXRodWIuY29tIiwiYXVkIjoicmF3LmdpdGh1YnVzZXJjb250ZW50LmNvbSIsImtleSI6ImtleTUiLCJleHAiOjE3NTIwODExNjAsIm5iZiI6MTc1MjA4MDg2MCwicGF0aCI6Ii85MzIwOC80NjM4NTM4OTctODlmYzJhNjEtZjNmNS00ZmRkLWE1MjYtNDlhYjNlNWM3OGQ3LnBuZz9YLUFtei1BbGdvcml0aG09QVdTNC1ITUFDLVNIQTI1NiZYLUFtei1DcmVkZW50aWFsPUFLSUFWQ09EWUxTQTUzUFFLNFpBJTJGMjAyNTA3MDklMkZ1cy1lYXN0LTElMkZzMyUyRmF3czRfcmVxdWVzdCZYLUFtei1EYXRlPTIwMjUwNzA5VDE3MDc0MFomWC1BbXotRXhwaXJlcz0zMDAmWC1BbXotU2lnbmF0dXJlPWNkMjA0ODhmZmMwZTE1MzFiMjZmYWQ5MmM1M2Q1ODA4MzFhYjI2M2UxN2FhYmMwMjIxMzA5MTMwNGY4OTNhMTAmWC1BbXotU2lnbmVkSGVhZGVycz1ob3N0In0.TIMRV17-DffQme7kGnH7qveqARfVEFDoeUy0pS2-XY8)"
   ]
  },
  {
   "cell_type": "code",
   "execution_count": 52,
   "id": "3401e09b",
   "metadata": {},
   "outputs": [],
   "source": [
    "from fmp_data import Dataset, OfflineData\n",
    "from utils.logging_config import setup_logging\n",
    "import logging\n",
    "\n",
    "\n",
    "us_stock_symbols = OfflineData.get_us_active_stocks()\n",
    "\n",
    "CORE_METRICS = [\n",
    "    'gross_margin_ttm',\n",
    "    'sga_margin_ttm',\n",
    "    'rd_margin_ttm',\n",
    "    'depreciation_and_amortization_margin_ttm',\n",
    "    'interest_payment_to_operating_income_ttm',\n",
    "    'net_income_margin_ttm',\n",
    "    'net_earning_yoy_growth',\n",
    "    'operating_income_yoy_growth',\n",
    "    'long_term_debt_to_ttm_operating_income',\n",
    "    'roe_ttm',\n",
    "    'debt_to_equity',\n",
    "    'book_value_per_share',\n",
    "    'capex_to_operating_income_ttm'\n",
    "]\n",
    "\n",
    "def filter(row):\n",
    "    return row['gross_margin_ttm'] >= 0.4 and \\\n",
    "    row['sga_margin_ttm'] <= 0.3 and \\\n",
    "    row['rd_margin_ttm'] <= 0.3 and \\\n",
    "    row['depreciation_and_amortization_margin_ttm'] <= 0.2 and \\\n",
    "    row['interest_payment_to_operating_income_ttm'] <= 0.15 and \\\n",
    "    row['operating_income_yoy_growth'] >= 0.2 and \\\n",
    "    row['net_earning_yoy_growth'] >= 0.05 and \\\n",
    "    row['long_term_debt_to_ttm_operating_income'] <= 3 and \\\n",
    "    row['roe_ttm'] >= 0.2 and \\\n",
    "    row['debt_to_equity'] <= 0.8 and \\\n",
    "    row['capex_to_operating_income_ttm'] <= 0.25 and \\\n",
    "    row['net_income_margin_ttm'] > 0"
   ]
  },
  {
   "cell_type": "code",
   "execution_count": null,
   "id": "d8c8d5c6",
   "metadata": {},
   "outputs": [],
   "source": [
    "setup_logging(logging.ERROR)\n",
    "data = Dataset(us_stock_symbols,\n",
    "               CORE_METRICS,\n",
    "               '2020-01-01', '2025-07-01').build()"
   ]
  },
  {
   "cell_type": "code",
   "execution_count": 46,
   "id": "51e3b64d",
   "metadata": {},
   "outputs": [],
   "source": [
    "data = data[data.date == '2025-07-01']"
   ]
  },
  {
   "cell_type": "code",
   "execution_count": 53,
   "id": "801e2e1e",
   "metadata": {},
   "outputs": [],
   "source": [
    "t = data[data.apply(filter, axis=1)]"
   ]
  },
  {
   "cell_type": "code",
   "execution_count": 57,
   "id": "a48cdf1d",
   "metadata": {},
   "outputs": [
    {
     "name": "stdout",
     "output_type": "stream",
     "text": [
      "['AGD', 'ANET', 'CNS', 'CVAC', 'DCF', 'DHY', 'EDD', 'FGEN', 'GHY', 'GMM', 'GOOG', 'GOOGL', 'HQL', 'JKHY', 'KYN', 'LGCY', 'MASK', 'META', 'MPWR', 'NVDA', 'RMT', 'SEIC', 'TY', 'XLNX']\n"
     ]
    }
   ],
   "source": [
    "print(t.symbol.tolist())"
   ]
  },
  {
   "cell_type": "code",
   "execution_count": null,
   "id": "cdcd12ca",
   "metadata": {},
   "outputs": [],
   "source": []
  }
 ],
 "metadata": {
  "kernelspec": {
   "display_name": "ai",
   "language": "python",
   "name": "python3"
  },
  "language_info": {
   "codemirror_mode": {
    "name": "ipython",
    "version": 3
   },
   "file_extension": ".py",
   "mimetype": "text/x-python",
   "name": "python",
   "nbconvert_exporter": "python",
   "pygments_lexer": "ipython3",
   "version": "3.13.1"
  }
 },
 "nbformat": 4,
 "nbformat_minor": 5
}
